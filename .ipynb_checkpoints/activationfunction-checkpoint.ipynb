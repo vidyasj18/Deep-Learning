{
 "cells": [
  {
   "cell_type": "code",
   "execution_count": null,
   "id": "223f6250-db1f-4bf1-81a4-fe885fe09293",
   "metadata": {},
   "outputs": [],
   "source": [
    "# Sigmoid function - range is between 1 to 0"
   ]
  },
  {
   "cell_type": "code",
   "execution_count": 1,
   "id": "dcd4a6d5-7578-4e00-a000-5f2666284a37",
   "metadata": {},
   "outputs": [],
   "source": [
    "import math\n",
    "\n",
    "def sigmoid(x):\n",
    "    return 1 / (1 + math.exp(-x))"
   ]
  },
  {
   "cell_type": "code",
   "execution_count": 2,
   "id": "10a1e04d-1a0e-4340-abb5-9e8afe5ff619",
   "metadata": {},
   "outputs": [
    {
     "data": {
      "text/plain": [
       "1.0"
      ]
     },
     "execution_count": 2,
     "metadata": {},
     "output_type": "execute_result"
    }
   ],
   "source": [
    "sigmoid(100)"
   ]
  },
  {
   "cell_type": "code",
   "execution_count": 3,
   "id": "0b91b022-895b-4167-994b-728ed9818586",
   "metadata": {},
   "outputs": [
    {
     "data": {
      "text/plain": [
       "0.9999546021312976"
      ]
     },
     "execution_count": 3,
     "metadata": {},
     "output_type": "execute_result"
    }
   ],
   "source": [
    "sigmoid(10)"
   ]
  },
  {
   "cell_type": "code",
   "execution_count": 4,
   "id": "d6f2033d-099a-4125-87e4-d5e29dc094b4",
   "metadata": {},
   "outputs": [
    {
     "data": {
      "text/plain": [
       "3.7200759760208356e-44"
      ]
     },
     "execution_count": 4,
     "metadata": {},
     "output_type": "execute_result"
    }
   ],
   "source": [
    "sigmoid(-100)"
   ]
  },
  {
   "cell_type": "code",
   "execution_count": 5,
   "id": "26aaee8f-f862-41ff-b994-9f9cf0ed3e94",
   "metadata": {},
   "outputs": [
    {
     "data": {
      "text/plain": [
       "0.5"
      ]
     },
     "execution_count": 5,
     "metadata": {},
     "output_type": "execute_result"
    }
   ],
   "source": [
    "sigmoid(0)"
   ]
  },
  {
   "cell_type": "code",
   "execution_count": 6,
   "id": "03241e71-0088-40c3-8398-0aa9f5beab5d",
   "metadata": {},
   "outputs": [
    {
     "data": {
      "text/plain": [
       "1.0"
      ]
     },
     "execution_count": 6,
     "metadata": {},
     "output_type": "execute_result"
    }
   ],
   "source": [
    "sigmoid(1000)"
   ]
  },
  {
   "cell_type": "code",
   "execution_count": 7,
   "id": "23d2dff5-2ecd-4157-ae21-71682f3b916e",
   "metadata": {},
   "outputs": [
    {
     "data": {
      "text/plain": [
       "0.6224593312018546"
      ]
     },
     "execution_count": 7,
     "metadata": {},
     "output_type": "execute_result"
    }
   ],
   "source": [
    "sigmoid(0.5)"
   ]
  },
  {
   "cell_type": "code",
   "execution_count": null,
   "id": "6356bafc-8343-4fb3-bf52-8e8a733a382a",
   "metadata": {},
   "outputs": [],
   "source": [
    "# modified tanh function - range is between -1 to 0"
   ]
  },
  {
   "cell_type": "code",
   "execution_count": 13,
   "id": "a64847bb-7d4d-466d-8696-425fd45b1553",
   "metadata": {},
   "outputs": [],
   "source": [
    "def tanh(x):\n",
    "    return ((math.exp(x) - math.exp(-x)) / (math.exp(x) + math.exp(-x)))"
   ]
  },
  {
   "cell_type": "code",
   "execution_count": 14,
   "id": "46cb0044-8aff-46c7-bf49-b0a9a3809aa2",
   "metadata": {},
   "outputs": [
    {
     "data": {
      "text/plain": [
       "1.0"
      ]
     },
     "execution_count": 14,
     "metadata": {},
     "output_type": "execute_result"
    }
   ],
   "source": [
    "tanh(100)"
   ]
  },
  {
   "cell_type": "code",
   "execution_count": 16,
   "id": "3abed523-552b-4679-949b-636bbcb2b313",
   "metadata": {},
   "outputs": [
    {
     "data": {
      "text/plain": [
       "0.0"
      ]
     },
     "execution_count": 16,
     "metadata": {},
     "output_type": "execute_result"
    }
   ],
   "source": [
    "tanh(0)"
   ]
  },
  {
   "cell_type": "code",
   "execution_count": 17,
   "id": "d696f953-8081-4d1a-98d5-c27a7f87198d",
   "metadata": {},
   "outputs": [
    {
     "data": {
      "text/plain": [
       "-1.0"
      ]
     },
     "execution_count": 17,
     "metadata": {},
     "output_type": "execute_result"
    }
   ],
   "source": [
    "tanh(-100)"
   ]
  },
  {
   "cell_type": "code",
   "execution_count": 19,
   "id": "13c124ae-2ac9-454e-aaf0-744fa56f6eb5",
   "metadata": {},
   "outputs": [
    {
     "data": {
      "text/plain": [
       "-0.964027580075817"
      ]
     },
     "execution_count": 19,
     "metadata": {},
     "output_type": "execute_result"
    }
   ],
   "source": [
    "tanh(-2)"
   ]
  },
  {
   "cell_type": "code",
   "execution_count": null,
   "id": "53e89e5d-0667-4257-9618-abee17d57098",
   "metadata": {},
   "outputs": [],
   "source": [
    "# ReLU - max between 0 and x"
   ]
  },
  {
   "cell_type": "code",
   "execution_count": 21,
   "id": "0af00cf4-e241-422d-9194-ec176bc2bb78",
   "metadata": {},
   "outputs": [],
   "source": [
    "def relu(x):\n",
    "    return max(0,x)"
   ]
  },
  {
   "cell_type": "code",
   "execution_count": 22,
   "id": "013e53d4-8457-4e5a-8b1d-e63755ea259d",
   "metadata": {},
   "outputs": [
    {
     "data": {
      "text/plain": [
       "0"
      ]
     },
     "execution_count": 22,
     "metadata": {},
     "output_type": "execute_result"
    }
   ],
   "source": [
    "relu(-2)"
   ]
  },
  {
   "cell_type": "code",
   "execution_count": 23,
   "id": "28d28e58-2118-4388-b1d0-3e54d8c8569e",
   "metadata": {},
   "outputs": [
    {
     "data": {
      "text/plain": [
       "0"
      ]
     },
     "execution_count": 23,
     "metadata": {},
     "output_type": "execute_result"
    }
   ],
   "source": [
    "relu(0)"
   ]
  },
  {
   "cell_type": "code",
   "execution_count": 24,
   "id": "5404ef73-74e0-40f2-9a33-8e75a3907753",
   "metadata": {},
   "outputs": [
    {
     "data": {
      "text/plain": [
       "2"
      ]
     },
     "execution_count": 24,
     "metadata": {},
     "output_type": "execute_result"
    }
   ],
   "source": [
    "relu(2)"
   ]
  },
  {
   "cell_type": "code",
   "execution_count": null,
   "id": "79e359cd-630c-41f5-a249-f0a8c59b6e2d",
   "metadata": {},
   "outputs": [],
   "source": [
    "# Leaky ReLU - between max of o.1x and x"
   ]
  },
  {
   "cell_type": "code",
   "execution_count": 25,
   "id": "00f2ba28-73fd-4d5b-88de-c79be24ade4f",
   "metadata": {},
   "outputs": [],
   "source": [
    "def leakyrelu(x):\n",
    "    return max(0.1*x,x)"
   ]
  },
  {
   "cell_type": "code",
   "execution_count": 26,
   "id": "3eee3644-3f21-4e65-beb6-12bbd18a0880",
   "metadata": {},
   "outputs": [
    {
     "data": {
      "text/plain": [
       "2"
      ]
     },
     "execution_count": 26,
     "metadata": {},
     "output_type": "execute_result"
    }
   ],
   "source": [
    "leakyrelu(2)"
   ]
  },
  {
   "cell_type": "code",
   "execution_count": 27,
   "id": "cf76dee5-d2b9-4552-85f9-c5a0c7714df3",
   "metadata": {},
   "outputs": [
    {
     "data": {
      "text/plain": [
       "-0.2"
      ]
     },
     "execution_count": 27,
     "metadata": {},
     "output_type": "execute_result"
    }
   ],
   "source": [
    "leakyrelu(-2)"
   ]
  },
  {
   "cell_type": "code",
   "execution_count": 28,
   "id": "ea78eb23-bcf8-4c74-8433-bbb5edb74135",
   "metadata": {},
   "outputs": [
    {
     "data": {
      "text/plain": [
       "0.0"
      ]
     },
     "execution_count": 28,
     "metadata": {},
     "output_type": "execute_result"
    }
   ],
   "source": [
    "leakyrelu(0)"
   ]
  },
  {
   "cell_type": "code",
   "execution_count": null,
   "id": "082cdfe6-4eb2-4f3d-9165-0c8b1a406cae",
   "metadata": {},
   "outputs": [],
   "source": []
  }
 ],
 "metadata": {
  "kernelspec": {
   "display_name": "Python 3 (ipykernel)",
   "language": "python",
   "name": "python3"
  },
  "language_info": {
   "codemirror_mode": {
    "name": "ipython",
    "version": 3
   },
   "file_extension": ".py",
   "mimetype": "text/x-python",
   "name": "python",
   "nbconvert_exporter": "python",
   "pygments_lexer": "ipython3",
   "version": "3.13.2"
  }
 },
 "nbformat": 4,
 "nbformat_minor": 5
}
