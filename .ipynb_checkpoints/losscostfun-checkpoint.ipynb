{
 "cells": [
  {
   "cell_type": "code",
   "execution_count": 1,
   "id": "3f3da250-e5cb-4ce0-93b7-d5852746eca5",
   "metadata": {},
   "outputs": [],
   "source": [
    "import numpy as np\n",
    "\n",
    "y_predicted = np.array([1,1,0,0,1])\n",
    "y_true = np.array([0.3,0.7,1.0,0,0.5])"
   ]
  },
  {
   "cell_type": "code",
   "execution_count": 2,
   "id": "cd85805e-1dbc-4c95-a2a3-33bf971cd37e",
   "metadata": {},
   "outputs": [],
   "source": [
    "def mae(y_true,y_predicted):\n",
    "    total_error = 0\n",
    "    for yt, yp in zip(y_true,y_predicted):\n",
    "        total_error += abs(yt - yp)\n",
    "    print(\"Total error : \",total_error)\n",
    "\n",
    "    mae = total_error/len(y_true)\n",
    "    print(\"MAE : \",mae)\n",
    "    return mae"
   ]
  },
  {
   "cell_type": "code",
   "execution_count": 3,
   "id": "e118ec0e-5898-4035-91dd-1ff674d4b7c5",
   "metadata": {},
   "outputs": [
    {
     "name": "stdout",
     "output_type": "stream",
     "text": [
      "Total error :  2.5\n",
      "MAE :  0.5\n"
     ]
    },
    {
     "data": {
      "text/plain": [
       "np.float64(0.5)"
      ]
     },
     "execution_count": 3,
     "metadata": {},
     "output_type": "execute_result"
    }
   ],
   "source": [
    "mae(y_true,y_predicted)"
   ]
  },
  {
   "cell_type": "code",
   "execution_count": null,
   "id": "276f73ae-1935-45cb-a2bf-25a628582db1",
   "metadata": {},
   "outputs": [],
   "source": [
    "# using numpy's built in function"
   ]
  },
  {
   "cell_type": "code",
   "execution_count": 4,
   "id": "90df8109-8e0b-49be-b251-635b2bb2aaf2",
   "metadata": {},
   "outputs": [
    {
     "data": {
      "text/plain": [
       "np.float64(0.5)"
      ]
     },
     "execution_count": 4,
     "metadata": {},
     "output_type": "execute_result"
    }
   ],
   "source": [
    "np.mean(np.abs(y_predicted - y_true))"
   ]
  },
  {
   "cell_type": "code",
   "execution_count": 5,
   "id": "f45eb249-f00f-4d46-87b9-2ae083f096a0",
   "metadata": {},
   "outputs": [
    {
     "data": {
      "text/plain": [
       "array([-20.72326584])"
      ]
     },
     "execution_count": 5,
     "metadata": {},
     "output_type": "execute_result"
    }
   ],
   "source": [
    "np.log([0.000000001])"
   ]
  },
  {
   "cell_type": "code",
   "execution_count": null,
   "id": "8bcdce5f-a133-41cf-b368-fd8bea019624",
   "metadata": {},
   "outputs": [],
   "source": [
    "# implementation of log loss function"
   ]
  },
  {
   "cell_type": "code",
   "execution_count": 7,
   "id": "88e29fd4-9c38-467f-bea0-3270c299b8d1",
   "metadata": {},
   "outputs": [],
   "source": [
    "epsilon = 1e-15"
   ]
  },
  {
   "cell_type": "code",
   "execution_count": 8,
   "id": "a2a9c27c-4ef8-45c2-b329-b1155ed3c9eb",
   "metadata": {},
   "outputs": [
    {
     "data": {
      "text/plain": [
       "[np.int64(1), np.int64(1), 1e-15, 1e-15, np.int64(1)]"
      ]
     },
     "execution_count": 8,
     "metadata": {},
     "output_type": "execute_result"
    }
   ],
   "source": [
    "y_predicted_new = [max(i,epsilon) for i in y_predicted]\n",
    "y_predicted_new"
   ]
  },
  {
   "cell_type": "code",
   "execution_count": 11,
   "id": "314ebe84-c91f-4cb5-b321-7bb75e6f32a7",
   "metadata": {},
   "outputs": [
    {
     "data": {
      "text/plain": [
       "[0.999999999999999,\n",
       " 0.999999999999999,\n",
       " np.int64(0),\n",
       " np.int64(0),\n",
       " 0.999999999999999]"
      ]
     },
     "execution_count": 11,
     "metadata": {},
     "output_type": "execute_result"
    }
   ],
   "source": [
    "y_predicted_new = [min(i,1-epsilon) for i in y_predicted]\n",
    "y_predicted_new"
   ]
  },
  {
   "cell_type": "code",
   "execution_count": null,
   "id": "c7330166-fbd2-4557-a61a-7fc641f96d9e",
   "metadata": {},
   "outputs": [],
   "source": [
    "# avoids taking log 0 and log 1 values into consideration"
   ]
  },
  {
   "cell_type": "code",
   "execution_count": 18,
   "id": "3cff62f3-7d9f-4f76-a429-185a30e12141",
   "metadata": {},
   "outputs": [
    {
     "data": {
      "text/plain": [
       "array([-9.99200722e-16, -9.99200722e-16, -3.45387764e+01, -3.45387764e+01,\n",
       "       -9.99200722e-16])"
      ]
     },
     "execution_count": 18,
     "metadata": {},
     "output_type": "execute_result"
    }
   ],
   "source": [
    "y_predicted_new = np.clip(y_predicted_new, 1e-15, 1 - 1e-15)\n",
    "np.log(y_predicted_new)"
   ]
  },
  {
   "cell_type": "code",
   "execution_count": 19,
   "id": "c9d545ea-c610-48a7-afab-2a97708435a2",
   "metadata": {},
   "outputs": [
    {
     "data": {
      "text/plain": [
       "np.float64(17.2696280766844)"
      ]
     },
     "execution_count": 19,
     "metadata": {},
     "output_type": "execute_result"
    }
   ],
   "source": [
    "-np.mean(y_true * np.log(y_predicted_new) + (1-y_true) * np.log(1-y_predicted_new))"
   ]
  },
  {
   "cell_type": "markdown",
   "id": "6792d2d4-abd4-4825-864f-852df4372d53",
   "metadata": {},
   "source": [
    "# python code"
   ]
  },
  {
   "cell_type": "code",
   "execution_count": 26,
   "id": "8c135b71-af89-499d-8fef-e44fe059f499",
   "metadata": {},
   "outputs": [],
   "source": [
    "def logloss(y_predicted,y_true):\n",
    "    epsilon = 1e-15\n",
    "    y_predicted_new = [min(max(i,epsilon),1-epsilon) for i in y_predicted]\n",
    "    y_predicted_new = np.array(y_predicted_new)\n",
    "    return -np.mean(y_true*np.log(y_predicted_new)+(1-y_true)*np.log(1-y_predicted_new))"
   ]
  },
  {
   "cell_type": "code",
   "execution_count": 27,
   "id": "ec5fea24-557e-4c21-ae7c-ef587c54a8fe",
   "metadata": {},
   "outputs": [
    {
     "data": {
      "text/plain": [
       "np.float64(17.2696280766844)"
      ]
     },
     "execution_count": 27,
     "metadata": {},
     "output_type": "execute_result"
    }
   ],
   "source": [
    "logloss(y_predicted,y_true)"
   ]
  },
  {
   "cell_type": "code",
   "execution_count": null,
   "id": "edc7ae57-ccaf-4b99-ab70-254060a888c6",
   "metadata": {},
   "outputs": [],
   "source": [
    "# MSE"
   ]
  }
 ],
 "metadata": {
  "kernelspec": {
   "display_name": "Python 3 (ipykernel)",
   "language": "python",
   "name": "python3"
  },
  "language_info": {
   "codemirror_mode": {
    "name": "ipython",
    "version": 3
   },
   "file_extension": ".py",
   "mimetype": "text/x-python",
   "name": "python",
   "nbconvert_exporter": "python",
   "pygments_lexer": "ipython3",
   "version": "3.13.2"
  }
 },
 "nbformat": 4,
 "nbformat_minor": 5
}
