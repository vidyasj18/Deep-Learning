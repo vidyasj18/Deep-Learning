{
 "cells": [
  {
   "cell_type": "code",
   "execution_count": 1,
   "id": "42d65668-1425-4b99-85b0-60cea6cf9b70",
   "metadata": {},
   "outputs": [],
   "source": [
    "import numpy as np"
   ]
  },
  {
   "cell_type": "code",
   "execution_count": 2,
   "id": "6f78263f-4afb-4cf3-a72f-72e784581b37",
   "metadata": {},
   "outputs": [],
   "source": [
    "revenue = np.array([[180,200,220],[24,36,40],[12,18,20]])\n",
    "expenses = np.array([[80,90,100],[10,16,20],[8,10,10]])"
   ]
  },
  {
   "cell_type": "code",
   "execution_count": 3,
   "id": "3cced814-8719-4d0f-8bb6-318d632b5af7",
   "metadata": {},
   "outputs": [],
   "source": [
    "profit = revenue - expenses"
   ]
  },
  {
   "cell_type": "code",
   "execution_count": 4,
   "id": "110dc891-ca9d-444f-af9c-e48a83962f9e",
   "metadata": {},
   "outputs": [
    {
     "name": "stdout",
     "output_type": "stream",
     "text": [
      "[[100 110 120]\n",
      " [ 14  20  20]\n",
      " [  4   8  10]]\n"
     ]
    }
   ],
   "source": [
    "print(profit)"
   ]
  },
  {
   "cell_type": "code",
   "execution_count": 5,
   "id": "1956b03a-76fb-4bc6-9aae-bc964219d8c0",
   "metadata": {},
   "outputs": [],
   "source": [
    "prices_per_unit = np.array([1000,400,1200])\n",
    "units = np.array([[30,40,50],[5,10,15],[2,5,7]])"
   ]
  },
  {
   "cell_type": "code",
   "execution_count": 6,
   "id": "f5177cd2-4def-410f-abbb-57ad9bdd51bf",
   "metadata": {},
   "outputs": [
    {
     "data": {
      "text/plain": [
       "array([[30000, 16000, 60000],\n",
       "       [ 5000,  4000, 18000],\n",
       "       [ 2000,  2000,  8400]])"
      ]
     },
     "execution_count": 6,
     "metadata": {},
     "output_type": "execute_result"
    }
   ],
   "source": [
    "prices_per_unit * units"
   ]
  },
  {
   "cell_type": "code",
   "execution_count": 7,
   "id": "d641b147-ba13-4a32-a7b7-24037f990d6e",
   "metadata": {},
   "outputs": [
    {
     "data": {
      "text/plain": [
       "array([34400, 50000, 64400])"
      ]
     },
     "execution_count": 7,
     "metadata": {},
     "output_type": "execute_result"
    }
   ],
   "source": [
    "np.dot(prices_per_unit,units)"
   ]
  },
  {
   "cell_type": "code",
   "execution_count": null,
   "id": "1e36e2fc-37d8-4dbe-a743-ad96afc90a1b",
   "metadata": {},
   "outputs": [],
   "source": []
  }
 ],
 "metadata": {
  "kernelspec": {
   "display_name": "Python 3 (ipykernel)",
   "language": "python",
   "name": "python3"
  },
  "language_info": {
   "codemirror_mode": {
    "name": "ipython",
    "version": 3
   },
   "file_extension": ".py",
   "mimetype": "text/x-python",
   "name": "python",
   "nbconvert_exporter": "python",
   "pygments_lexer": "ipython3",
   "version": "3.13.2"
  }
 },
 "nbformat": 4,
 "nbformat_minor": 5
}
